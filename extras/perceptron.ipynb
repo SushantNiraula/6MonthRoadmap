{
 "cells": [
  {
   "cell_type": "code",
   "execution_count": 8,
   "id": "de85469a",
   "metadata": {},
   "outputs": [],
   "source": [
    "import numpy as np"
   ]
  },
  {
   "cell_type": "code",
   "execution_count": 9,
   "id": "617ff528",
   "metadata": {},
   "outputs": [],
   "source": [
    "def sigmoid(z):\n",
    "    \"\"\"\n",
    "    Compute the sigmoid of z.\n",
    "    Args:\n",
    "        z (float or ndarray): Input value or array.\n",
    "    Returns:\n",
    "        float or ndarray: Sigmoid of z, in range (0,1).\n",
    "    \"\"\"\n",
    "    return 1/ (1 + np.exp(-z))\n",
    "    "
   ]
  },
  {
   "cell_type": "code",
   "execution_count": 10,
   "id": "7ce7321b",
   "metadata": {},
   "outputs": [],
   "source": [
    "def single_neuron(inputs ,weights, bias):\n",
    "    \"\"\"\n",
    "    Compute the output of a single neuron.\n",
    "    Args:\n",
    "        inputs (ndarray): Input values.\n",
    "        weights (ndarray): Weights for the inputs.\n",
    "        bias (float): Bias term.\n",
    "    Returns:\n",
    "        float: Output of the neuron after applying sigmoid activation.\n",
    "    \"\"\"\n",
    "    z= np.dot(inputs, weights) + bias\n",
    "    output= sigmoid(z)\n",
    "    return output"
   ]
  },
  {
   "cell_type": "code",
   "execution_count": 11,
   "id": "8b572304",
   "metadata": {},
   "outputs": [],
   "source": [
    "np.random.seed(0)\n",
    "inputs = np.array([1.0, 2.0, 3.0])\n",
    "weights = np.random.randn(3)\n",
    "bias = np.random.randn(1)[0]"
   ]
  },
  {
   "cell_type": "code",
   "execution_count": 12,
   "id": "ed4d3b01",
   "metadata": {},
   "outputs": [
    {
     "name": "stdout",
     "output_type": "stream",
     "text": [
      "Inputs: [1. 2. 3.]\n",
      "Weights: [1.76405235 0.40015721 0.97873798]\n",
      "Bias: 2.240893199201458\n"
     ]
    }
   ],
   "source": [
    "print(\"Inputs:\", inputs)\n",
    "print(\"Weights:\", weights)\n",
    "print(\"Bias:\", bias)"
   ]
  },
  {
   "cell_type": "code",
   "execution_count": 13,
   "id": "7b43fc0c",
   "metadata": {},
   "outputs": [
    {
     "name": "stdout",
     "output_type": "stream",
     "text": [
      "Inputs: [1. 2. 3.]\n",
      "Weights: [1.76405235 0.40015721 0.97873798]\n",
      "Bias: 2.240893199201458\n",
      "Output: 0.9995657578589113\n"
     ]
    }
   ],
   "source": [
    "output= single_neuron(inputs, weights, bias)\n",
    "print(f'Inputs: {inputs}')\n",
    "print(f'Weights: {weights}')\n",
    "print(f'Bias: {bias}')\n",
    "print(f'Output: {output}')"
   ]
  },
  {
   "cell_type": "markdown",
   "id": "bda1e993",
   "metadata": {},
   "source": [
    "A single neuron:\n",
    "\n",
    "1. Takes inputs (e.g., $ \\mathbf{x} = [x_1, x_2, x_3] $).\n",
    "\n",
    "2. Multiplies each input by a weight (e.g., $ \\mathbf{w} = [w_1, w_2, w_3] $).\n",
    "\n",
    "3. Adds a bias term ($ b $).\n",
    "4. Computes a weighted sum: $ z = \\mathbf{w} \\cdot \\mathbf{x} + b $.\n",
    "5. Applies an activation function (sigmoid: $ \\sigma(z) = \\frac{1}{1 + e^{-z}} $) to produce the output.\n",
    "\n",
    "The sigmoid function maps the output to (0,1), useful for binary classification tasks. You’ll use NumPy for efficient array operations and Jupyter Notebook for an interactive environment."
   ]
  },
  {
   "cell_type": "markdown",
   "id": "293f2922",
   "metadata": {},
   "source": [
    "## Explanation of the Code\n",
    "Let’s break down each part to ensure clarity and deepen your understanding, aligning with your request for teacher-like explanations.\n",
    "\n",
    "1. `Import NumPy:`\n",
    "\n",
    "* `import numpy as np`: NumPy provides efficient array operations, critical for neural network computations.\n",
    "\n",
    "\n",
    "2. Sigmoid Function:\n",
    "\n",
    "* `def sigmoid(z)`: Computes $ \\sigma(z) = \\frac{1}{1 + e^{-z}} $.\n",
    "* Uses `np.exp(-z)` for element-wise exponentiation, allowing the function to handle scalars or arrays.\n",
    "* Returns values in (0,1), simulating a neuron’s “activation” level.\n",
    "\n",
    "\n",
    "3. Single Neuron Function:\n",
    "\n",
    "* `def single_neuron(inputs, weights, bias)`:\n",
    "\n",
    "* `Inputs`: A NumPy array (e.g., `[1.0, 2.0, 3.0]`).\n",
    "* `Weights`: A NumPy array of the same length (e.g., `[w1, w2, w3]`).\n",
    "* `Bias`: A scalar (e.g., `1.5230`).\n",
    "\n",
    "\n",
    "* `np.dot(inputs, weights)`: Computes the dot product $ \\mathbf{w} \\cdot \\mathbf{x} = w_1 x_1 + w_2 x_2 + \\dots $.\n",
    "* Adds the bias: $ z = \\mathbf{w} \\cdot \\mathbf{x} + b $.\n",
    "* Applies sigmoid: $ \\text{output} = \\sigma(z) $.\n",
    "\n",
    "\n",
    "4. Example Usage:\n",
    "\n",
    "* `np.random.seed(42)`: Ensures reproducible random numbers for learning.\n",
    "* `inputs` = np.array([1.0, 2.0, 3.0]): A sample input vector, representing features (e.g., pixel values).\n",
    "* `weights` = np.random.randn(3): Random weights from a standard normal distribution.\n",
    "* `bias` = np.random.randn(1)[0]: Random bias as a scalar.\n",
    "* Prints inputs, weights, bias, and output for clarity.\n"
   ]
  },
  {
   "cell_type": "markdown",
   "id": "002b0204",
   "metadata": {},
   "source": []
  },
  {
   "cell_type": "code",
   "execution_count": null,
   "id": "fe143e8e",
   "metadata": {},
   "outputs": [],
   "source": []
  }
 ],
 "metadata": {
  "kernelspec": {
   "display_name": "ml",
   "language": "python",
   "name": "python3"
  },
  "language_info": {
   "codemirror_mode": {
    "name": "ipython",
    "version": 3
   },
   "file_extension": ".py",
   "mimetype": "text/x-python",
   "name": "python",
   "nbconvert_exporter": "python",
   "pygments_lexer": "ipython3",
   "version": "3.13.2"
  }
 },
 "nbformat": 4,
 "nbformat_minor": 5
}
